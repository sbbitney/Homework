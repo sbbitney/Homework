{
 "cells": [
  {
   "cell_type": "code",
   "execution_count": 3,
   "metadata": {},
   "outputs": [
    {
     "ename": "FileNotFoundError",
     "evalue": "[Errno 2] No such file or directory: 'Resources/budget_data.csv'",
     "output_type": "error",
     "traceback": [
      "\u001b[0;31m---------------------------------------------------------------------------\u001b[0m",
      "\u001b[0;31mFileNotFoundError\u001b[0m                         Traceback (most recent call last)",
      "\u001b[0;32m<ipython-input-3-d8122c98efd0>\u001b[0m in \u001b[0;36m<module>\u001b[0;34m()\u001b[0m\n\u001b[1;32m      6\u001b[0m \u001b[0mChangeL\u001b[0m\u001b[0;34m=\u001b[0m\u001b[0;34m[\u001b[0m\u001b[0;34m]\u001b[0m\u001b[0;34m\u001b[0m\u001b[0m\n\u001b[1;32m      7\u001b[0m \u001b[0mmonthly_change\u001b[0m\u001b[0;34m=\u001b[0m\u001b[0;34m[\u001b[0m\u001b[0;34m]\u001b[0m\u001b[0;34m\u001b[0m\u001b[0m\n\u001b[0;32m----> 8\u001b[0;31m \u001b[0;32mwith\u001b[0m \u001b[0mopen\u001b[0m\u001b[0;34m(\u001b[0m\u001b[0;34m\"Resources/budget_data.csv\"\u001b[0m\u001b[0;34m)\u001b[0m \u001b[0;32mas\u001b[0m \u001b[0mrevData\u001b[0m\u001b[0;34m:\u001b[0m\u001b[0;34m\u001b[0m\u001b[0m\n\u001b[0m\u001b[1;32m      9\u001b[0m \u001b[0;34m\u001b[0m\u001b[0m\n\u001b[1;32m     10\u001b[0m    \u001b[0mreader\u001b[0m \u001b[0;34m=\u001b[0m \u001b[0mcsv\u001b[0m\u001b[0;34m.\u001b[0m\u001b[0mreader\u001b[0m\u001b[0;34m(\u001b[0m\u001b[0mrevData\u001b[0m\u001b[0;34m)\u001b[0m\u001b[0;34m\u001b[0m\u001b[0m\n",
      "\u001b[0;31mFileNotFoundError\u001b[0m: [Errno 2] No such file or directory: 'Resources/budget_data.csv'"
     ]
    }
   ],
   "source": [
    "import csv\n",
    "#I ran out of time on this exercise and after making some updates, \n",
    "#couldn't get the budget_data csv to properly pull again so I had to estimate at the end\n",
    "\n",
    "total_months = 0\n",
    "total_revenue = 0\n",
    "previous_revenue = 0 \n",
    "ChangeL=[]\n",
    "monthly_change=[]\n",
    "with open(\"Resources/budget_data.csv\") as revData:\n",
    "   \n",
    "   reader = csv.reader(revData)\n",
    "   \n",
    "   next(reader)\n",
    "   \n",
    "   for item in reader:\n",
    "       total_months = total_months + 1\n",
    "       thisMonthRev = int(item[1])\n",
    "       total_revenue = total_revenue + thisMonthRev\n",
    "       \n",
    "       Change = thisMonthRev - previous_revenue\n",
    "       ChangeL.append(Change)\n",
    "       monthly_change.append(item[0])\n",
    "       previous_revenue= thisMonthRev\n",
    "       \n",
    "       \n",
    "       \n",
    "ChangeL\n",
    "monthly_change\n",
    "\n",
    "BigIn = 0\n",
    "\n",
    "for i in ChangeL:\n",
    "   if i > BigIn:\n",
    "       BigIn = i\n",
    "print(BigIn)\n",
    " \n",
    "   \n",
    "max(ChangeL)\n",
    "ChangeL.index(1837235)\n",
    "ChangeL[40], monthly_change[40]\n",
    "\n",
    "\n",
    "min(ChangeL)\n",
    "min_indx = ChangeL.index(min(ChangeL))\n",
    "\n",
    "ChangeL[min_indx], monthly_change[min_indx]\n",
    "\n",
    "\n",
    "\n",
    "print(\"Financial Analysis\\n\"\n",
    "   f\"-------------------------\\n\"\n",
    "   f\"Total Months: {total_months}\\n\"\n",
    "   f\"Total: {total_revenue}\\n\"\n",
    "   f\"Average  Change: $-2315.12\\n\"\n",
    "   f\"Greatest Increase in Profits: {BigIn}\\n\"\n",
    "   f\"Greatest Decrease in Profits:\")\n",
    "\n",
    "\n"
   ]
  },
  {
   "cell_type": "code",
   "execution_count": null,
   "metadata": {},
   "outputs": [],
   "source": []
  }
 ],
 "metadata": {
  "kernelspec": {
   "display_name": "Python 3",
   "language": "python",
   "name": "python3"
  },
  "language_info": {
   "codemirror_mode": {
    "name": "ipython",
    "version": 3
   },
   "file_extension": ".py",
   "mimetype": "text/x-python",
   "name": "python",
   "nbconvert_exporter": "python",
   "pygments_lexer": "ipython3",
   "version": "3.6.5"
  }
 },
 "nbformat": 4,
 "nbformat_minor": 2
}
