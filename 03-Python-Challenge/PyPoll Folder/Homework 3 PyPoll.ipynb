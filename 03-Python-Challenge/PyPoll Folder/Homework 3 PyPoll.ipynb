{
 "cells": [
  {
   "cell_type": "code",
   "execution_count": 6,
   "metadata": {},
   "outputs": [
    {
     "name": "stdout",
     "output_type": "stream",
     "text": [
      "Election Results\n",
      "-------------------------\n",
      "Total Votes: 3521001\n",
      "-------------------------\n",
      "The Winning Candidate: Khan\n",
      "The Winning count: 2218231\n",
      "Winning % : 63.0\n"
     ]
    }
   ],
   "source": [
    "import csv\n",
    "import os\n",
    "\n",
    "\n",
    "Votes=0\n",
    "Candidates = []\n",
    "voterCount={}\n",
    "\n",
    "winvotes = 0\n",
    "winCand=''\n",
    "\n",
    "with open(\"Resources/election_data.csv\") as textFile:\n",
    "   \n",
    "   reader = csv.reader(textFile)\n",
    "   \n",
    "   next(reader)\n",
    "   \n",
    "   for row in reader:\n",
    "\n",
    "       Votes=Votes + 1\n",
    "       candidate=row[2]\n",
    "      \n",
    "    \n",
    "       if candidate not in Candidates:\n",
    "           Candidates.append(candidate)\n",
    "           \n",
    "           voterCount[candidate] = 0\n",
    "           \n",
    "       voterCount[candidate] = voterCount[candidate] + 1\n",
    "\n",
    "for item in voterCount:\n",
    "   thisCandVotes = voterCount[item]\n",
    "   candidate = item\n",
    "   \n",
    "   if thisCandVotes > winvotes:\n",
    "       \n",
    "       winCand = candidate\n",
    "       winvotes = thisCandVotes\n",
    "\n",
    "\n",
    "\n",
    "\n",
    "\n",
    "print(\"Election Results\\n\"\n",
    "   f\"-------------------------\\n\"\n",
    "   f\"Total Votes: {Votes}\\n\"\n",
    "   f\"-------------------------\\n\"\n",
    "   f\"The Winning Candidate: {winCand}\\n\"\n",
    "   f\"The Winning count: {winvotes}\\n\"\n",
    "   f\"Winning % : {round(winvotes/Votes*100, 1)}\")\n",
    "\n",
    "\n",
    "   \n",
    "   \n",
    "   \n"
   ]
  },
  {
   "cell_type": "code",
   "execution_count": null,
   "metadata": {},
   "outputs": [],
   "source": []
  },
  {
   "cell_type": "code",
   "execution_count": null,
   "metadata": {},
   "outputs": [],
   "source": []
  }
 ],
 "metadata": {
  "kernelspec": {
   "display_name": "Python 3",
   "language": "python",
   "name": "python3"
  },
  "language_info": {
   "codemirror_mode": {
    "name": "ipython",
    "version": 3
   },
   "file_extension": ".py",
   "mimetype": "text/x-python",
   "name": "python",
   "nbconvert_exporter": "python",
   "pygments_lexer": "ipython3",
   "version": "3.6.5"
  }
 },
 "nbformat": 4,
 "nbformat_minor": 2
}
