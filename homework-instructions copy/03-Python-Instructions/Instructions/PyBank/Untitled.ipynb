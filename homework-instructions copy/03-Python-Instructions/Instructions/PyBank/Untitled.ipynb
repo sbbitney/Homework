{
 "cells": [
  {
   "cell_type": "code",
   "execution_count": 1,
   "metadata": {},
   "outputs": [
    {
     "name": "stdout",
     "output_type": "stream",
     "text": [
      "Financial Analysis\n",
      "----------------------\n",
      "Total Months: 86\n",
      "Total: $ 38382578\n",
      "Average Change: $ -2315.12\n",
      "Greatest Increase in Profits: Feb-12 ($1926159)\n",
      "Greates Decrease in Profits: Sep-13 ($-2196167)\n",
      "\n"
     ]
    }
   ],
   "source": [
    "import os\n",
    "import csv\n",
    "\n",
    "path = os.path.join(\"Resources\",\"budget_data.csv\")\n",
    "\n",
    "months = []\n",
    "revenue = []\n",
    "\n",
    "with open(path,newline=\"\") as infile:\n",
    "    csv = csv.reader(infile ,delimiter = \",\")\n",
    "    next(csv)\n",
    "    for row in csv :\n",
    "        months.append(row[0])\n",
    "        revenue.append(int(row[1]))\n",
    "\n",
    "# Initialize Variables\n",
    "\n",
    "count_months = 0\n",
    "\n",
    "# Aggregate Functions\n",
    "\n",
    "for i in months :\n",
    "    count_months += 1\n",
    "\n",
    "sum_revenue = round(sum(revenue),2)\n",
    "\n",
    "zipped = zip(revenue[:-1], revenue[1:])\n",
    "\n",
    "def change(x,y) :\n",
    "    return y - x\n",
    "    \n",
    "\n",
    "changes = list(map(change, revenue[:-1],revenue[1:]))\n",
    "\n",
    "total_avg=round((sum(changes)/len(changes)),2)\n",
    "\n",
    "# Max and Min\n",
    "\n",
    "max_change = max(changes)\n",
    "\n",
    "max_month = months[list(changes).index(max_change) + 1]\n",
    "\n",
    "min_change = min(changes)\n",
    "\n",
    "min_month = months[list(changes).index(min_change) + 1]\n",
    "\n",
    "# Print Statments\n",
    "\n",
    "final = (f\"Financial Analysis\\n\"\n",
    "    f\"----------------------\\n\"\n",
    "    f\"Total Months: {count_months}\\n\"\n",
    "    f\"Total: $ {sum_revenue}\\n\"\n",
    "    f\"Average Change: $ {total_avg}\\n\"\n",
    "    f\"Greatest Increase in Profits: {max_month} (${max_change})\\n\"\n",
    "    f\"Greates Decrease in Profits: {min_month} (${min_change})\\n\")\n",
    "\n",
    "print(final)"
   ]
  },
  {
   "cell_type": "code",
   "execution_count": 3,
   "metadata": {},
   "outputs": [
    {
     "name": "stdout",
     "output_type": "stream",
     "text": [
      "\u001b[34mResources\u001b[m\u001b[m      Untitled.ipynb\n"
     ]
    }
   ],
   "source": [
    "!ls"
   ]
  },
  {
   "cell_type": "code",
   "execution_count": 4,
   "metadata": {},
   "outputs": [
    {
     "name": "stdout",
     "output_type": "stream",
     "text": [
      "Resources/budget_data.csv\n"
     ]
    }
   ],
   "source": [
    "file_path = os.path.join('Resources','budget_data.csv')\n",
    "print(file_path)"
   ]
  },
  {
   "cell_type": "code",
   "execution_count": 21,
   "metadata": {},
   "outputs": [
    {
     "name": "stdout",
     "output_type": "stream",
     "text": [
      "18971412\n"
     ]
    }
   ],
   "source": [
    "\n",
    "sum = 0\n",
    "with open(file_path) as file:\n",
    "    data = csv.reader(file,delimiter=',')\n",
    "    next(data)\n",
    "    for row in data:\n",
    "        x = int(row[1])\n",
    "        sum += x\n",
    "        \n",
    "print(sum)\n",
    "    \n",
    "    "
   ]
  },
  {
   "cell_type": "code",
   "execution_count": 14,
   "metadata": {},
   "outputs": [
    {
     "ename": "TypeError",
     "evalue": " expected at least 1 arguments, got 0",
     "output_type": "error",
     "traceback": [
      "\u001b[0;31m---------------------------------------------------------------------------\u001b[0m",
      "\u001b[0;31mTypeError\u001b[0m                                 Traceback (most recent call last)",
      "\u001b[0;32m<ipython-input-14-0f5b2dadfa8a>\u001b[0m in \u001b[0;36m<module>\u001b[0;34m()\u001b[0m\n\u001b[1;32m      1\u001b[0m \u001b[0;32mimport\u001b[0m \u001b[0mcsv\u001b[0m\u001b[0;34m\u001b[0m\u001b[0m\n\u001b[1;32m      2\u001b[0m \u001b[0;32mimport\u001b[0m \u001b[0minspect\u001b[0m\u001b[0;34m\u001b[0m\u001b[0m\n\u001b[0;32m----> 3\u001b[0;31m \u001b[0minspect\u001b[0m\u001b[0;34m(\u001b[0m\u001b[0mcsv\u001b[0m\u001b[0;34m.\u001b[0m\u001b[0mwriter\u001b[0m\u001b[0;34m(\u001b[0m\u001b[0;34m)\u001b[0m\u001b[0;34m)\u001b[0m\u001b[0;34m\u001b[0m\u001b[0m\n\u001b[0m",
      "\u001b[0;31mTypeError\u001b[0m:  expected at least 1 arguments, got 0"
     ]
    }
   ],
   "source": [
    "\n",
    "import inspect\n"
   ]
  },
  {
   "cell_type": "code",
   "execution_count": null,
   "metadata": {},
   "outputs": [],
   "source": []
  }
 ],
 "metadata": {
  "kernelspec": {
   "display_name": "Python 3",
   "language": "python",
   "name": "python3"
  },
  "language_info": {
   "codemirror_mode": {
    "name": "ipython",
    "version": 3
   },
   "file_extension": ".py",
   "mimetype": "text/x-python",
   "name": "python",
   "nbconvert_exporter": "python",
   "pygments_lexer": "ipython3",
   "version": "3.6.4"
  }
 },
 "nbformat": 4,
 "nbformat_minor": 2
}
